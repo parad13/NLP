{
  "nbformat": 4,
  "nbformat_minor": 0,
  "metadata": {
    "kernelspec": {
      "display_name": "Python 3",
      "language": "python",
      "name": "python3"
    },
    "language_info": {
      "codemirror_mode": {
        "name": "ipython",
        "version": 3
      },
      "file_extension": ".py",
      "mimetype": "text/x-python",
      "name": "python",
      "nbconvert_exporter": "python",
      "pygments_lexer": "ipython3",
      "version": "3.8.5"
    },
    "colab": {
      "name": "REGEX.ipynb",
      "provenance": [],
      "include_colab_link": true
    }
  },
  "cells": [
    {
      "cell_type": "markdown",
      "metadata": {
        "id": "view-in-github",
        "colab_type": "text"
      },
      "source": [
        "<a href=\"https://colab.research.google.com/github/parad13/NLP/blob/main/REGEX.ipynb\" target=\"_parent\"><img src=\"https://colab.research.google.com/assets/colab-badge.svg\" alt=\"Open In Colab\"/></a>"
      ]
    },
    {
      "cell_type": "markdown",
      "metadata": {
        "id": "NK8Z6adbpFMo"
      },
      "source": [
        "### import regex"
      ]
    },
    {
      "cell_type": "code",
      "metadata": {
        "id": "dDayFZHhpFMt"
      },
      "source": [
        "import re"
      ],
      "execution_count": null,
      "outputs": []
    },
    {
      "cell_type": "code",
      "metadata": {
        "id": "ogtMN-6TpFMu",
        "outputId": "d1d5b60b-744d-4b37-eba3-492caae191da"
      },
      "source": [
        "r='here is \\\\droba'\n",
        "print(re.search(r'\\\\droba',r))"
      ],
      "execution_count": null,
      "outputs": [
        {
          "output_type": "stream",
          "text": [
            "<re.Match object; span=(8, 14), match='\\\\droba'>\n"
          ],
          "name": "stdout"
        }
      ]
    },
    {
      "cell_type": "code",
      "metadata": {
        "id": "Eh4ZVRfkpFMw"
      },
      "source": [
        "rand='''\n",
        "keep the blue flag\n",
        "flaying high\n",
        "chalse\n",
        "'''"
      ],
      "execution_count": null,
      "outputs": []
    },
    {
      "cell_type": "code",
      "metadata": {
        "id": "ZgZd7TgPpFMx",
        "outputId": "906d553e-7099-4be1-95ab-fe96855be027"
      },
      "source": [
        "print(rand)"
      ],
      "execution_count": null,
      "outputs": [
        {
          "output_type": "stream",
          "text": [
            "\n",
            "keep the blue flag\n",
            "flaying high\n",
            "chalse\n",
            "\n"
          ],
          "name": "stdout"
        }
      ]
    },
    {
      "cell_type": "code",
      "metadata": {
        "id": "th9tSaeypFMy",
        "outputId": "33daddaf-a8c8-48bd-bc40-f23c5b5d032f"
      },
      "source": [
        "regex = re.compile('\\n')\n",
        "randstr=regex.sub('',rand)\n",
        "print(randstr)"
      ],
      "execution_count": null,
      "outputs": [
        {
          "output_type": "stream",
          "text": [
            "keep the blue flagflaying highchalse\n"
          ],
          "name": "stdout"
        }
      ]
    },
    {
      "cell_type": "code",
      "metadata": {
        "id": "XdBnt95spFMz",
        "outputId": "4b2eadfd-4069-4cf0-f19c-5466ebcee6d4"
      },
      "source": [
        "rand='12345'\n",
        "print('Matches',len(re.findall('\\d{5}',rand)))"
      ],
      "execution_count": null,
      "outputs": [
        {
          "output_type": "stream",
          "text": [
            "Matches 1\n"
          ],
          "name": "stdout"
        }
      ]
    },
    {
      "cell_type": "code",
      "metadata": {
        "id": "Qv3hwogKpFM0",
        "outputId": "ce43ee3d-dc8e-41bd-fd56-a038de85fad2"
      },
      "source": [
        "num = '123  1234 12345 123456 1234567'\n",
        "print('Matches',len(re.findall('\\d{5,7}',num)))"
      ],
      "execution_count": null,
      "outputs": [
        {
          "output_type": "stream",
          "text": [
            "Matches 3\n"
          ],
          "name": "stdout"
        }
      ]
    },
    {
      "cell_type": "code",
      "metadata": {
        "id": "5Sn5gMr7pFM2"
      },
      "source": [
        "phn = '412-432-2343'"
      ],
      "execution_count": null,
      "outputs": []
    },
    {
      "cell_type": "code",
      "metadata": {
        "id": "3d7iN0NMpFM3"
      },
      "source": [
        "if re.search('\\d{3}-\\d{3}-\\d{4}',phn):\n",
        "    print('It\\'s a phone no' )\n",
        "    "
      ],
      "execution_count": null,
      "outputs": []
    },
    {
      "cell_type": "code",
      "metadata": {
        "id": "8na_--h7pFM4",
        "outputId": "8bc5ec39-cf69-41b7-9282-5355b8f42898"
      },
      "source": [
        "email='abc@gmial.com,rsa@gmial.com,rds@gmial.com,gfd@gmial.com,'\n",
        "print('EmailMatches:',len(re.findall('[\\w._%+-]{1,20}@[\\w.-]\n",
        "                     {2,20}.[a-Za-z]{2,3}',email)))"
      ],
      "execution_count": null,
      "outputs": [
        {
          "output_type": "error",
          "ename": "SyntaxError",
          "evalue": "EOL while scanning string literal (<ipython-input-24-df1a6bd9dea2>, line 2)",
          "traceback": [
            "\u001b[1;36m  File \u001b[1;32m\"<ipython-input-24-df1a6bd9dea2>\"\u001b[1;36m, line \u001b[1;32m2\u001b[0m\n\u001b[1;33m    print('EmailMatches:',len(re.findall('[\\w._%+-]{1,20}@[\\w.-]\u001b[0m\n\u001b[1;37m                                                                ^\u001b[0m\n\u001b[1;31mSyntaxError\u001b[0m\u001b[1;31m:\u001b[0m EOL while scanning string literal\n"
          ]
        }
      ]
    },
    {
      "cell_type": "code",
      "metadata": {
        "id": "gT9hq8PbpFM5"
      },
      "source": [
        "import urllib.request\n",
        "from re import findall\n",
        "\n"
      ],
      "execution_count": null,
      "outputs": []
    },
    {
      "cell_type": "code",
      "metadata": {
        "id": "RPwdtcIDpFM5"
      },
      "source": [
        "from sklearn.tree import DecisionTreeRegressor"
      ],
      "execution_count": null,
      "outputs": []
    },
    {
      "cell_type": "code",
      "metadata": {
        "id": "-6GNuZBMpFM6"
      },
      "source": [
        "from sklearn.tree."
      ],
      "execution_count": null,
      "outputs": []
    }
  ]
}