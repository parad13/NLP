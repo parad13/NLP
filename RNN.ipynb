{
  "nbformat": 4,
  "nbformat_minor": 0,
  "metadata": {
    "colab": {
      "name": "RNN",
      "provenance": [],
      "authorship_tag": "ABX9TyM9nxR8OQXdw45Jg0VvQSuS",
      "include_colab_link": true
    },
    "kernelspec": {
      "name": "python3",
      "display_name": "Python 3"
    }
  },
  "cells": [
    {
      "cell_type": "markdown",
      "metadata": {
        "id": "view-in-github",
        "colab_type": "text"
      },
      "source": [
        "<a href=\"https://colab.research.google.com/github/parad13/NLP/blob/main/RNN.ipynb\" target=\"_parent\"><img src=\"https://colab.research.google.com/assets/colab-badge.svg\" alt=\"Open In Colab\"/></a>"
      ]
    },
    {
      "cell_type": "code",
      "metadata": {
        "colab": {
          "base_uri": "https://localhost:8080/"
        },
        "id": "NZrea6eUCDVT",
        "outputId": "fd5aa1fe-3b50-4df4-c18c-a51dc9dd5f3d"
      },
      "source": [
        "%pylab inline\n",
        "\n",
        "import math"
      ],
      "execution_count": null,
      "outputs": [
        {
          "output_type": "stream",
          "text": [
            "Populating the interactive namespace from numpy and matplotlib\n"
          ],
          "name": "stdout"
        }
      ]
    },
    {
      "cell_type": "code",
      "metadata": {
        "id": "BWS4X5_xE_9t"
      },
      "source": [
        "#Creating a sign wave using numpy math fn\n",
        "sin_wave = np.array([math.sin(x) for x in np.arange(200) ])"
      ],
      "execution_count": null,
      "outputs": []
    },
    {
      "cell_type": "code",
      "metadata": {
        "id": "c6jfF9Z0Hs-J"
      },
      "source": [
        "# plt.plot(sin_wave[:50])"
      ],
      "execution_count": null,
      "outputs": []
    },
    {
      "cell_type": "code",
      "metadata": {
        "id": "nzNxK7STH4pw"
      },
      "source": [
        "#Training data creation \n",
        "X = []\n",
        "Y = []\n",
        "\n",
        "seq_len = 50\n",
        "\n",
        "num_records = len(sin_wave) - seq_len #200 - 50 = 150\n",
        "\n",
        "for i in range(num_records - 50): #150 - 50 = 100\n",
        "  X.append(sin_wave[i:i+seq_len]) #sin_wave[0:50/1:51/2:52] (n,n) array\n",
        "  Y.append(sin_wave[i+seq_len]) #sin_wave[50/51/52]\n",
        "\n",
        "#Converting X & Y in np array\n",
        "X = np.array(X)\n",
        "X = np.expand_dims(X, axis=2)\n",
        "\n",
        "Y = np.array(Y)\n",
        "Y = np.expand_dims(Y, axis=1)  "
      ],
      "execution_count": null,
      "outputs": []
    },
    {
      "cell_type": "code",
      "metadata": {
        "colab": {
          "base_uri": "https://localhost:8080/"
        },
        "id": "yP-vualmKaZm",
        "outputId": "8abb4fbb-96a4-4659-fecf-a0dc40d21184"
      },
      "source": [
        "X.ndim,Y.ndim,X.shape,Y.shape,X.size,Y.size"
      ],
      "execution_count": null,
      "outputs": [
        {
          "output_type": "execute_result",
          "data": {
            "text/plain": [
              "(3, 2, (100, 50, 1), (100, 1), 5000, 100)"
            ]
          },
          "metadata": {
            "tags": []
          },
          "execution_count": 5
        }
      ]
    },
    {
      "cell_type": "code",
      "metadata": {
        "id": "vp7w2USeKn0R"
      },
      "source": [
        "#Testing data creation \n",
        "X_val = []\n",
        "Y_val = []\n",
        "\n",
        "for i in range(num_records - 50, num_records): #150 - 50 = 100\n",
        "  X_val.append(sin_wave[i:i+seq_len]) #sin_wave[0:50/1:51/2:52] (n,n) array\n",
        "  Y_val.append(sin_wave[i+seq_len]) #sin_wave[50/51/52]\n",
        "\n",
        "#Converting X & Y in np array\n",
        "X_val = np.array(X_val)\n",
        "X_val = np.expand_dims(X_val, axis=2)\n",
        "\n",
        "Y_val = np.array(Y_val)\n",
        "Y_val = np.expand_dims(Y_val, axis=1) "
      ],
      "execution_count": null,
      "outputs": []
    },
    {
      "cell_type": "code",
      "metadata": {
        "colab": {
          "base_uri": "https://localhost:8080/"
        },
        "id": "wpGy1eeBMnbG",
        "outputId": "b7a560a1-7c77-4f1d-9669-caef5f51063b"
      },
      "source": [
        "X_val.ndim,Y_val.ndim,X_val.shape,Y_val.shape,X_val.size,Y_val.size"
      ],
      "execution_count": null,
      "outputs": [
        {
          "output_type": "execute_result",
          "data": {
            "text/plain": [
              "(3, 2, (50, 50, 1), (50, 1), 2500, 50)"
            ]
          },
          "metadata": {
            "tags": []
          },
          "execution_count": 7
        }
      ]
    },
    {
      "cell_type": "markdown",
      "metadata": {
        "id": "z-M-i5dbMrti"
      },
      "source": [
        "## Step-1 :RNN Model Building"
      ]
    },
    {
      "cell_type": "code",
      "metadata": {
        "id": "F8w3Rin_NFIV"
      },
      "source": [
        "learning_rate = 0.0001\n",
        "nepoch = 25\n",
        "T = 50 # Length of sequence\n",
        "hidden_dim = 100 #hidden layer of 100 units\n",
        "output_dim = 1#single output value\n",
        "\n",
        "bptt_truncate = 5\n",
        "min_clip_value = -10\n",
        "max_clip_value = 10\n"
      ],
      "execution_count": null,
      "outputs": []
    },
    {
      "cell_type": "code",
      "metadata": {
        "id": "DbZ4XD5FWX9G"
      },
      "source": [
        "#Defining weights of the network\n",
        "U = np.random.uniform(0, 1, (hidden_dim, T))\n",
        "V = np.random.uniform(0, 1, (hidden_dim, hidden_dim)) #RNN layer\n",
        "W = np.random.uniform(0, 1, (output_dim, hidden_dim))\n",
        "\n",
        "# U is the weight matrix for weights between input and hidden layers\n",
        "# V is the weight matrix for weights between hidden and output layers\n",
        "# W is the weight matrix for shared weights in the RNN layer (hidden layer)"
      ],
      "execution_count": null,
      "outputs": []
    },
    {
      "cell_type": "code",
      "metadata": {
        "id": "wss5Zq1vW9fo"
      },
      "source": [
        "#Activation fn\n",
        "def sigmoid(x):\n",
        "  return 1 / (1 + np.exp(-x))"
      ],
      "execution_count": null,
      "outputs": []
    },
    {
      "cell_type": "markdown",
      "metadata": {
        "id": "lgEQs-d-XIwd"
      },
      "source": [
        "## Step-2 : Training the model"
      ]
    },
    {
      "cell_type": "markdown",
      "metadata": {
        "id": "NO4BPo-8XpK_"
      },
      "source": [
        "Step 2.1 : Check the loss on training data<br>\n",
        "Step 2.1.1 : Forward Pass<br>\n",
        "Step 2.1.2 : Calculate Error<br>\n",
        "Step 2.2 : Check the loss on validation data<br>\n",
        "Step 2.2.1 : Forward Pass<br>\n",
        "Step 2.2.2 : Calculate Error<br>\n",
        "Step 2.3 : Start actual training<br>\n",
        "Step 2.3.1 : Forward Pass<br>\n",
        "Step 2.3.2 : Backpropagate Error<br>\n",
        "Step 2.3.3 : Update weights<br>\n",
        "<p>We need to repeat these steps until convergence. If the model starts to overfit, stop! Or simply pre-define the number of epochs.</p>"
      ]
    },
    {
      "cell_type": "markdown",
      "metadata": {
        "id": "9l6OeoTwX7-4"
      },
      "source": [
        "\n",
        "Step 2.1: Check the loss on training data"
      ]
    },
    {
      "cell_type": "code",
      "metadata": {
        "id": "zyKMkf_1XGeE"
      },
      "source": [
        "for epoch in range(nepoch):\n",
        "  loss = 0.0\n",
        "\n",
        "  for i in range(Y.shape([0]):\n",
        "    x,y = X[i], Y[i]\n",
        "    prev_s = np.zeros((hidden_dim, 1))\n",
        "    "
      ],
      "execution_count": null,
      "outputs": []
    }
  ]
}